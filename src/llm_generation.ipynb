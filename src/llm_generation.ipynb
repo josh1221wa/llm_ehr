{
 "cells": [
  {
   "cell_type": "code",
   "execution_count": 22,
   "metadata": {},
   "outputs": [
    {
     "data": {
      "text/plain": [
       "True"
      ]
     },
     "execution_count": 22,
     "metadata": {},
     "output_type": "execute_result"
    }
   ],
   "source": [
    "from dotenv import load_dotenv\n",
    "import os\n",
    "\n",
    "load_dotenv(\"../tokens.env\")"
   ]
  },
  {
   "cell_type": "code",
   "execution_count": 23,
   "metadata": {},
   "outputs": [],
   "source": [
    "prompt_template = \"\"\"I will give you a transcription of an audio between a doctor and a patient. \n",
    "Based on the transcript I want you to summarise the conversation in points. \n",
    "Only return a maximum of 10 points and no other extra greeting or conclusion text.\n",
    "\n",
    "The conversation is as follows: \\n\\n {{conversation}} \\n\\n\"\"\"\n",
    "\n",
    "with open(\"../sample_text.txt\", \"r\") as f:\n",
    "    sample_text = f.read()\n",
    "    \n",
    "prompt = prompt_template.replace(\"{{conversation}}\", sample_text)"
   ]
  },
  {
   "cell_type": "code",
   "execution_count": 24,
   "metadata": {},
   "outputs": [
    {
     "name": "stdout",
     "output_type": "stream",
     "text": [
      "*   Patient experiencing diarrhea, loose and watery stools, 6-7 times a day for the past three days.\n",
      "*   Patient is experiencing lower abdominal pain, described as a cramp, mainly on the left side.\n",
      "*   Patient feels weak and shaky and had a fever when the symptoms started.\n",
      "*   Patient experienced vomiting at the start of the symptoms, which has now stopped.\n",
      "*   Patient has a loss of appetite but is able to keep down fluids and is eating light, liquid foods.\n",
      "*   Patient ate takeaway from a Chinese restaurant about four days ago, potentially triggering the symptoms.\n",
      "*   Patient has asthma, controlled with an inhaler, but no other pre-existing bowel problems or other medications.\n",
      "*   Patient is finding it difficult to work due to the frequency of needing the toilet.\n",
      "*   Doctor suspects gastroenteritis, advises conservative management, including staying hydrated with oral rehydration solutions (e.g., Dioralyte), paracetamol for fever, and rest for 2-3 days.\n",
      "*   Doctor advises patient to seek further consultation if symptoms do not improve in 3-4 days, potentially requiring stool sample testing.\n",
      "\n"
     ]
    }
   ],
   "source": [
    "from google import genai\n",
    "\n",
    "client = genai.Client(api_key=os.getenv(\"GEMINI_API_KEY\"))\n",
    "response = client.models.generate_content(\n",
    "    model=\"gemini-2.0-flash\", contents=prompt\n",
    ")\n",
    "print(response.text)"
   ]
  }
 ],
 "metadata": {
  "kernelspec": {
   "display_name": "llm_ehr_env",
   "language": "python",
   "name": "python3"
  },
  "language_info": {
   "codemirror_mode": {
    "name": "ipython",
    "version": 3
   },
   "file_extension": ".py",
   "mimetype": "text/x-python",
   "name": "python",
   "nbconvert_exporter": "python",
   "pygments_lexer": "ipython3",
   "version": "3.9.21"
  }
 },
 "nbformat": 4,
 "nbformat_minor": 2
}
