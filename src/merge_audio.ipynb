{
 "cells": [
  {
   "cell_type": "code",
   "execution_count": 6,
   "metadata": {},
   "outputs": [
    {
     "name": "stderr",
     "output_type": "stream",
     "text": [
      "100%|██████████| 57/57 [00:07<00:00,  7.63it/s]\n"
     ]
    }
   ],
   "source": [
    "import os\n",
    "from tqdm import tqdm\n",
    "from pydub import AudioSegment\n",
    "\n",
    "raw_files = os.listdir(\"../data/raw\")[:-1] # exclude the README file\n",
    "\n",
    "for i in tqdm(range(0, len(raw_files), 2)):\n",
    "    sound1 = AudioSegment.from_file(f\"../data/raw/{raw_files[i]}\", format=\"wav\")\n",
    "    sound2 = AudioSegment.from_file(f\"../data/raw/{raw_files[i+1]}\", format=\"wav\")\n",
    "    overlay = sound1.overlay(sound2)\n",
    "    file_handle = overlay.export(f\"../data/processed/{raw_files[i].replace('_doctor', '')}\", format=\"wav\")\n",
    "    file_handle.close()"
   ]
  }
 ],
 "metadata": {
  "kernelspec": {
   "display_name": "llm_ehr_env",
   "language": "python",
   "name": "python3"
  },
  "language_info": {
   "codemirror_mode": {
    "name": "ipython",
    "version": 3
   },
   "file_extension": ".py",
   "mimetype": "text/x-python",
   "name": "python",
   "nbconvert_exporter": "python",
   "pygments_lexer": "ipython3",
   "version": "3.9.21"
  }
 },
 "nbformat": 4,
 "nbformat_minor": 2
}
